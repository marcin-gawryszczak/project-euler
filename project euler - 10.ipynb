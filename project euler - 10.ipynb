{
 "cells": [
  {
   "cell_type": "code",
   "execution_count": 2,
   "id": "74efb67c",
   "metadata": {},
   "outputs": [],
   "source": [
    "#Project Euler\n",
    "\n",
    "#Problem no 10\n",
    "\n",
    "\n",
    "#The sum of the primes below 10 is 2 + 3 + 5 + 7 = 17.\n",
    "\n",
    "#Find the sum of all the primes below two million.\n"
   ]
  },
  {
   "cell_type": "code",
   "execution_count": 15,
   "id": "33e65ff7",
   "metadata": {},
   "outputs": [
    {
     "name": "stdout",
     "output_type": "stream",
     "text": [
      "142913828922\n"
     ]
    }
   ],
   "source": [
    "def is_prime(n):\n",
    "    if n == 2:\n",
    "        return True\n",
    "    if n % 2 == 0 or n <= 1:\n",
    "        return False\n",
    " \n",
    "    sr = int(n**0.5) + 1\n",
    "    for divider in range(3, sr, 2):\n",
    "        if n % divider == 0:\n",
    "            return False\n",
    "    return True\n",
    "\n",
    "sum_of_primes = 0\n",
    "for n in range (2,2000000):\n",
    "    if is_prime(n) == True:\n",
    "        sum_of_primes = sum_of_primes + n\n",
    "    else:\n",
    "        continue\n",
    "print (sum_of_primes)"
   ]
  },
  {
   "cell_type": "code",
   "execution_count": null,
   "id": "36a59dbb",
   "metadata": {},
   "outputs": [],
   "source": [
    "#RIGHT ANSWER: 142913828922"
   ]
  }
 ],
 "metadata": {
  "kernelspec": {
   "display_name": "Python 3",
   "language": "python",
   "name": "python3"
  },
  "language_info": {
   "codemirror_mode": {
    "name": "ipython",
    "version": 3
   },
   "file_extension": ".py",
   "mimetype": "text/x-python",
   "name": "python",
   "nbconvert_exporter": "python",
   "pygments_lexer": "ipython3",
   "version": "3.8.8"
  }
 },
 "nbformat": 4,
 "nbformat_minor": 5
}
