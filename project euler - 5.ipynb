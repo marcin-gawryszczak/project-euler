{
 "cells": [
  {
   "cell_type": "code",
   "execution_count": 6,
   "id": "dc184793",
   "metadata": {},
   "outputs": [
    {
     "name": "stdout",
     "output_type": "stream",
     "text": [
      "Project Euler\n",
      "PROBLEM NO 5\n",
      "2520 is the smallest number that can be divided by each of the numbers from 1 to 10 without any remainder.\n",
      " What is the smallest positive number that is evenly divisible by all of the numbers from 1 to 20?\n"
     ]
    }
   ],
   "source": [
    "print('Project Euler')\n",
    "print('PROBLEM NO 5')\n",
    "\n",
    "print('2520 is the smallest number that can be divided by each of the numbers from 1 to 10 without any remainder.\\n What is the smallest positive number that is evenly divisible by all of the numbers from 1 to 20?')\n"
   ]
  },
  {
   "cell_type": "code",
   "execution_count": null,
   "id": "e71d8172",
   "metadata": {},
   "outputs": [],
   "source": [
    "\n"
   ]
  },
  {
   "cell_type": "code",
   "execution_count": 2,
   "id": "a7786b58",
   "metadata": {},
   "outputs": [
    {
     "name": "stdout",
     "output_type": "stream",
     "text": [
      "232792560\n",
      "465585120\n",
      "698377680\n",
      "931170240\n"
     ]
    }
   ],
   "source": [
    "dzielniki = [1,2,3,4,5,6,7,8,9,10,11,12,13,14,15,16,17,18,19,20]\n",
    "# for check if num is devided by numbers 1-20 - only need to check nums: 11,13,14,16,17,18,19,20\n",
    "\n",
    "for x in range (2520, 1000000000,2):\n",
    "    if x%11 == 0 and x%13 == 0 and x%14 == 0 and x%16 == 0 and x%17 == 0 and x%18 == 0 and x%19 == 0 and x%20 == 0: \n",
    "        print (x)\n"
   ]
  },
  {
   "cell_type": "code",
   "execution_count": null,
   "id": "4b5245d6",
   "metadata": {},
   "outputs": [],
   "source": []
  },
  {
   "cell_type": "code",
   "execution_count": null,
   "id": "f61967ed",
   "metadata": {},
   "outputs": [],
   "source": [
    "RIGHT ANSWER: 232792560"
   ]
  }
 ],
 "metadata": {
  "kernelspec": {
   "display_name": "Python 3",
   "language": "python",
   "name": "python3"
  },
  "language_info": {
   "codemirror_mode": {
    "name": "ipython",
    "version": 3
   },
   "file_extension": ".py",
   "mimetype": "text/x-python",
   "name": "python",
   "nbconvert_exporter": "python",
   "pygments_lexer": "ipython3",
   "version": "3.8.8"
  }
 },
 "nbformat": 4,
 "nbformat_minor": 5
}
