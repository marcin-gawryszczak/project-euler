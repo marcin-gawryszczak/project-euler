{
 "cells": [
  {
   "cell_type": "code",
   "execution_count": 6,
   "id": "ce53011e",
   "metadata": {},
   "outputs": [
    {
     "name": "stdout",
     "output_type": "stream",
     "text": [
      "Project Euler\n",
      "PROBLEM NO 6\n",
      "Find the difference between the sum of the squares of the first one hundred natural numbers and \n",
      " the square of the sum.\n"
     ]
    }
   ],
   "source": [
    "print('Project Euler')\n",
    "print ('PROBLEM NO 6')\n",
    "print ('Find the difference between the sum of the squares of the first one hundred natural numbers and \\n the square of the sum.')\n",
    "\n"
   ]
  },
  {
   "cell_type": "code",
   "execution_count": null,
   "id": "7d9ea9aa",
   "metadata": {},
   "outputs": [],
   "source": []
  },
  {
   "cell_type": "code",
   "execution_count": 2,
   "id": "171adfe4",
   "metadata": {},
   "outputs": [
    {
     "name": "stdout",
     "output_type": "stream",
     "text": [
      "338350\n",
      "25502500\n",
      "25164150\n"
     ]
    }
   ],
   "source": [
    "result = 0\n",
    "\n",
    "for x in range (1,101):\n",
    "    \n",
    "    a = x ** 2 \n",
    "    result = result + a\n",
    "    if x == 100:\n",
    "        print (result)\n",
    "\n",
    "result2 = 0\n",
    "\n",
    "for b in range (1,101):\n",
    "    result2 = result2 +b\n",
    "    if b == 100:\n",
    "        result3 = result2 **2\n",
    "        print(result3)\n",
    "        \n",
    "final_result = result3 - result\n",
    "print (final_result)"
   ]
  },
  {
   "cell_type": "code",
   "execution_count": null,
   "id": "641f8cc7",
   "metadata": {},
   "outputs": [],
   "source": []
  },
  {
   "cell_type": "code",
   "execution_count": null,
   "id": "dab638ba",
   "metadata": {},
   "outputs": [],
   "source": [
    "RIGHT ANSWER: 25164150"
   ]
  }
 ],
 "metadata": {
  "kernelspec": {
   "display_name": "Python 3",
   "language": "python",
   "name": "python3"
  },
  "language_info": {
   "codemirror_mode": {
    "name": "ipython",
    "version": 3
   },
   "file_extension": ".py",
   "mimetype": "text/x-python",
   "name": "python",
   "nbconvert_exporter": "python",
   "pygments_lexer": "ipython3",
   "version": "3.8.8"
  }
 },
 "nbformat": 4,
 "nbformat_minor": 5
}
