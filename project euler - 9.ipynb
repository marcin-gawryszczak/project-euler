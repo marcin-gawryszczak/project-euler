{
 "cells": [
  {
   "cell_type": "code",
   "execution_count": 1,
   "id": "57816182",
   "metadata": {},
   "outputs": [],
   "source": [
    "#Project Euler\n",
    "#Problem no 9\n",
    "\n",
    "\n",
    "\n",
    "#A Pythagorean triplet is a set of three natural numbers, a < b < c, for which,\n",
    "#a2 + b2 = c2\n",
    "\n",
    "#For example, 3sq + 4sq = 9 + 16 = 25 = 5sq.\n",
    "\n",
    "#There exists exactly one Pythagorean triplet for which a + b + c = 1000.\n",
    "#Find the product abc.\n"
   ]
  },
  {
   "cell_type": "code",
   "execution_count": null,
   "id": "e6385bb1",
   "metadata": {},
   "outputs": [],
   "source": []
  },
  {
   "cell_type": "code",
   "execution_count": 2,
   "id": "b2635d98",
   "metadata": {},
   "outputs": [
    {
     "name": "stdout",
     "output_type": "stream",
     "text": [
      "31875000.0\n"
     ]
    }
   ],
   "source": [
    "import math\n",
    "for a in range (1,333):\n",
    "    for b in range (1,500):\n",
    "        c = math.sqrt(a**2+b**2)\n",
    "        if a+b+c == 1000:\n",
    "            print (a*b*c)"
   ]
  },
  {
   "cell_type": "code",
   "execution_count": null,
   "id": "42cfbecc",
   "metadata": {},
   "outputs": [],
   "source": [
    "#RIGHT ANSWER: 31875000"
   ]
  }
 ],
 "metadata": {
  "kernelspec": {
   "display_name": "Python 3",
   "language": "python",
   "name": "python3"
  },
  "language_info": {
   "codemirror_mode": {
    "name": "ipython",
    "version": 3
   },
   "file_extension": ".py",
   "mimetype": "text/x-python",
   "name": "python",
   "nbconvert_exporter": "python",
   "pygments_lexer": "ipython3",
   "version": "3.8.8"
  }
 },
 "nbformat": 4,
 "nbformat_minor": 5
}
