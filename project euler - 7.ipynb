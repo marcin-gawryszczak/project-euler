{
 "cells": [
  {
   "cell_type": "code",
   "execution_count": 6,
   "id": "c89894c6",
   "metadata": {},
   "outputs": [
    {
     "name": "stdout",
     "output_type": "stream",
     "text": [
      "Project Euler\n",
      "PROBLEM NO 7\n",
      "By listing the first six prime numbers: 2, 3, 5, 7, 11, and 13, we can see that the 6th prime is 13. \n",
      "What is the 10 001st prime number?\n"
     ]
    }
   ],
   "source": [
    "print('Project Euler')\n",
    "print('PROBLEM NO 7')\n",
    "\n",
    "print('By listing the first six prime numbers: 2, 3, 5, 7, 11, and 13, we can see that the 6th prime is 13. \\nWhat is the 10 001st prime number?')\n"
   ]
  },
  {
   "cell_type": "code",
   "execution_count": null,
   "id": "41e90c11",
   "metadata": {},
   "outputs": [],
   "source": []
  },
  {
   "cell_type": "code",
   "execution_count": 5,
   "id": "be56559a",
   "metadata": {},
   "outputs": [
    {
     "name": "stdout",
     "output_type": "stream",
     "text": [
      "104743\n"
     ]
    }
   ],
   "source": [
    "\n",
    "def is_prime(n):\n",
    "    if n == 2:\n",
    "        return True\n",
    "    if n % 2 == 0 or n <= 1:\n",
    "        return False\n",
    "# \n",
    "    sr = int(n**0.5) + 1\n",
    "    for divider in range(3, sr, 2):\n",
    "        if n % divider == 0:\n",
    "            return False\n",
    "    return True\n",
    "\n",
    "liczby_pierwsze = []\n",
    "\n",
    "\n",
    "\n",
    "while len(liczby_pierwsze) <10001:\n",
    "    for liczba in range (2, liczba):\n",
    "        if czy_pierwsza (liczba) == True:\n",
    "            liczby_pierwsze.append(liczba)\n",
    "\n",
    "wynik = liczby_pierwsze[10000]\n",
    "\n",
    "            \n",
    "print(wynik)\n"
   ]
  },
  {
   "cell_type": "code",
   "execution_count": null,
   "id": "7f9e1e26",
   "metadata": {},
   "outputs": [],
   "source": []
  },
  {
   "cell_type": "code",
   "execution_count": null,
   "id": "12cd0ba6",
   "metadata": {},
   "outputs": [],
   "source": [
    "#RIGHT ANSWER: 104743"
   ]
  }
 ],
 "metadata": {
  "kernelspec": {
   "display_name": "Python 3",
   "language": "python",
   "name": "python3"
  },
  "language_info": {
   "codemirror_mode": {
    "name": "ipython",
    "version": 3
   },
   "file_extension": ".py",
   "mimetype": "text/x-python",
   "name": "python",
   "nbconvert_exporter": "python",
   "pygments_lexer": "ipython3",
   "version": "3.8.8"
  }
 },
 "nbformat": 4,
 "nbformat_minor": 5
}
